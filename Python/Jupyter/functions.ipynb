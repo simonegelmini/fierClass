{
 "cells": [
  {
   "cell_type": "markdown",
   "metadata": {},
   "source": [
    "<span style=\"font-family: Century Gothic; font-size:2.0em;color:navy;\"> **fierClass: Useful API** </p> "
   ]
  },
  {
   "cell_type": "code",
   "execution_count": 1,
   "metadata": {},
   "outputs": [],
   "source": [
    "#   Authors: Jessica Leoni (jessica.leoni@polimi.it)\n",
    "#            Francesco Zinnari (francesco.zinnari@polimi.it)\n",
    "#            Simone Gelmini (simone.gelmini@polimi.it, gelminisimon@gmail.com)\n",
    "#   Date: 2019/05/03.\n",
    "#\n",
    "#   If you are going to use fierClass in your research project, please cite its reference article\n",
    "#   S. Gelmini, S. Formentin, et al. \"fierClass: A multi-signal, cepstrum-based, time series classifier,\"\n",
    "#   Engineering Applications of Artificial Intelligence, Volume 87, 2020, https://doi.org/10.1016/j.engappai.2019.103262.\n",
    "#\n",
    "#   Copyright and license: © Jessica Leoni, Francesco Zinnari, Simone Gelmini, Politecnico di Milano\n",
    "#   Licensed under the [MIT License](LICENSE).\n",
    "#\n",
    "#  In case of need, feel free to ask the author."
   ]
  },
  {
   "cell_type": "markdown",
   "metadata": {},
   "source": [
    "<span style=\"font-family: Century Gothic; font-size:1.8em;color:SteelBlue;\"> **Libraries** </p> "
   ]
  },
  {
   "cell_type": "markdown",
   "metadata": {},
   "source": [
    "<span style=\"font-family: Century Gothic; font-size:1.2em;color:dimGray;\"> *This code block imports all the required libraries and packages.* </p> "
   ]
  },
  {
   "cell_type": "code",
   "execution_count": 1,
   "metadata": {},
   "outputs": [],
   "source": [
    "import numpy as np"
   ]
  },
  {
   "cell_type": "markdown",
   "metadata": {},
   "source": [
    "<span style=\"font-family: Century Gothic; font-size:1.8em;color:SteelBlue;\"> **Low-Pass Filter** </p> "
   ]
  },
  {
   "cell_type": "markdown",
   "metadata": {},
   "source": [
    "<span style=\"font-family: Century Gothic; font-size:1.2em;color:dimGray;\"> *This function applies a low pass filter to a given signal. The filter equation is discretized according to Tustin method.*</p> <pre>\n",
    "<span style=\"font-family: Century Gothic; font-size:1.2em;color:dimGray;\">\n",
    "\n",
    "-------------------------------------------------------------------------------------------------------------------------------\n",
    "Usage:\n",
    "Output = fun.lowpass(a, b, c, d, fs, values)\n",
    "\n",
    "-------------------------------------------------------------------------------------------------------------------------------\n",
    "\n",
    "Parameters:\n",
    "a, b, c, d - filter coefficients. F(s) = (as + b)/(cs + d);\n",
    "fs - signal sampling frequency;\n",
    "values - raw signal.\n",
    "</p> "
   ]
  },
  {
   "cell_type": "code",
   "execution_count": 2,
   "metadata": {},
   "outputs": [],
   "source": [
    "def lowpass(a, b, c, d, fs, values):\n",
    "    # Initial conditions setting\n",
    "    T = 1/fs\n",
    "    y_0 = 0\n",
    "    u_0 = 0\n",
    "    \n",
    "    # Tustin discretization method: s = (2/T)*((z-1)/(z+1))\n",
    "    output = []\n",
    "    for i in range(len(values)):\n",
    "        # Filter application\n",
    "        y = (1/((2*c)+(d*T)))*(2*a*(values[i]+(b-2*a)*u_0)+y_0*(2*c-d*T))\n",
    "        output.append(y)\n",
    "        y_0 = y\n",
    "        u_0 = values[i]\n",
    "    output = np.squeeze(np.asarray(output))\n",
    "    return output"
   ]
  }
 ],
 "metadata": {
  "kernelspec": {
   "display_name": "Python 3",
   "language": "python",
   "name": "python3"
  },
  "language_info": {
   "codemirror_mode": {
    "name": "ipython",
    "version": 3
   },
   "file_extension": ".py",
   "mimetype": "text/x-python",
   "name": "python",
   "nbconvert_exporter": "python",
   "pygments_lexer": "ipython3",
   "version": "3.6.10"
  }
 },
 "nbformat": 4,
 "nbformat_minor": 2
}
